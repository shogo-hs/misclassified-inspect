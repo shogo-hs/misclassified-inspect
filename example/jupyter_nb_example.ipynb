{
 "cells": [
  {
   "cell_type": "code",
   "execution_count": 1,
   "id": "76477dd9-e035-45af-abd8-edcb5960b9c6",
   "metadata": {},
   "outputs": [],
   "source": [
    "from datetime import datetime, timedelta\n",
    "import pandas as pd\n",
    "from misinspect.datasets.payment_transaction import generate_transaction_data\n",
    "from misinspect.analysis.binary import MisClassifiedTxnAnalyzer\n",
    "from misinspect.gui.jupyter import MisClassifiedTxnVisualizer"
   ]
  },
  {
   "cell_type": "code",
   "execution_count": 2,
   "id": "f3d86545-3b7b-4610-a755-750cd1c7cc8f",
   "metadata": {},
   "outputs": [],
   "source": [
    "normal = generate_transaction_data(\n",
    "    1000, \n",
    "    (1000, 1010), \n",
    "    (1, 3), \n",
    "    (datetime.now() - timedelta(days=100), datetime.now() - timedelta(days=5)),\n",
    "    [\"card\", \"QR\", \"cash\"],\n",
    "    0,\n",
    ")\n",
    "\n",
    "fraud = generate_transaction_data(\n",
    "    50, \n",
    "    (1000, 1010), \n",
    "    (1, 3), \n",
    "    (datetime.now() - timedelta(days=4), datetime.now()),\n",
    "    [\"card\", \"QR\", \"cash\"],\n",
    "    1,\n",
    ")\n",
    "\n",
    "dataset = pd.concat([normal, fraud], axis=0).reset_index(drop=True)"
   ]
  },
  {
   "cell_type": "code",
   "execution_count": 3,
   "id": "5635ac40-299c-4793-afe0-22a785998d47",
   "metadata": {},
   "outputs": [],
   "source": [
    "analyzer = MisClassifiedTxnAnalyzer(\n",
    "    dataset=dataset,\n",
    "    user_id_col = \"user_id\",\n",
    "    price_col = \"price\",\n",
    "    datetime_col = \"use_dt\",\n",
    "    prob_col = \"probability\",\n",
    "    label_col = \"label\",\n",
    ")"
   ]
  },
  {
   "cell_type": "code",
   "execution_count": 4,
   "id": "53b57f0a-6bd8-4d95-8742-5fdfd8ebfa32",
   "metadata": {},
   "outputs": [
    {
     "data": {
      "application/vnd.jupyter.widget-view+json": {
       "model_id": "c2dc847128824f87880e456f2c2ec053",
       "version_major": 2,
       "version_minor": 0
      },
      "text/plain": [
       "Dropdown(description='Select threshold: ', options=('0.50', '0.55', '0.60', '0.65', '0.70', '0.75', '0.80', '0…"
      ]
     },
     "metadata": {},
     "output_type": "display_data"
    },
    {
     "data": {
      "application/vnd.jupyter.widget-view+json": {
       "model_id": "b20e66adda4d4b80ab39da3c8078227f",
       "version_major": 2,
       "version_minor": 0
      },
      "text/plain": [
       "Select(description='Select misclassification type: ', layout=Layout(width='150px'), options=('FP', 'FN'), valu…"
      ]
     },
     "metadata": {},
     "output_type": "display_data"
    },
    {
     "data": {
      "application/vnd.jupyter.widget-view+json": {
       "model_id": "d073f78deaf04cdb96fedafc5da10e8c",
       "version_major": 2,
       "version_minor": 0
      },
      "text/plain": [
       "Dropdown(description='Select User Id: ', options=(), value=None)"
      ]
     },
     "metadata": {},
     "output_type": "display_data"
    },
    {
     "data": {
      "application/vnd.jupyter.widget-view+json": {
       "model_id": "5ae4de94a7dc461e8532b4b0afdee705",
       "version_major": 2,
       "version_minor": 0
      },
      "text/plain": [
       "HBox(children=(Button(description='display user data', style=ButtonStyle()), Button(description='plot payment …"
      ]
     },
     "metadata": {},
     "output_type": "display_data"
    },
    {
     "data": {
      "application/vnd.jupyter.widget-view+json": {
       "model_id": "f0451ade09d64dbf8552a273be139ef7",
       "version_major": 2,
       "version_minor": 0
      },
      "text/plain": [
       "Output(layout=Layout(border_bottom='1px solid black', border_left='1px solid black', border_right='1px solid b…"
      ]
     },
     "metadata": {},
     "output_type": "display_data"
    }
   ],
   "source": [
    "widget = MisClassifiedTxnVisualizer(analyzer)\n",
    "widget.show()"
   ]
  },
  {
   "cell_type": "code",
   "execution_count": 5,
   "id": "091018da-2bae-4973-a355-1ad91648e588",
   "metadata": {},
   "outputs": [
    {
     "data": {
      "text/html": [
       "<div>\n",
       "<style scoped>\n",
       "    .dataframe tbody tr th:only-of-type {\n",
       "        vertical-align: middle;\n",
       "    }\n",
       "\n",
       "    .dataframe tbody tr th {\n",
       "        vertical-align: top;\n",
       "    }\n",
       "\n",
       "    .dataframe thead th {\n",
       "        text-align: right;\n",
       "    }\n",
       "</style>\n",
       "<table border=\"1\" class=\"dataframe\">\n",
       "  <thead>\n",
       "    <tr style=\"text-align: right;\">\n",
       "      <th></th>\n",
       "      <th>Threshold</th>\n",
       "      <th>FP</th>\n",
       "      <th>FN</th>\n",
       "    </tr>\n",
       "  </thead>\n",
       "  <tbody>\n",
       "    <tr>\n",
       "      <th>0</th>\n",
       "      <td>0.50</td>\n",
       "      <td>165</td>\n",
       "      <td>42</td>\n",
       "    </tr>\n",
       "    <tr>\n",
       "      <th>1</th>\n",
       "      <td>0.55</td>\n",
       "      <td>75</td>\n",
       "      <td>41</td>\n",
       "    </tr>\n",
       "    <tr>\n",
       "      <th>2</th>\n",
       "      <td>0.60</td>\n",
       "      <td>0</td>\n",
       "      <td>36</td>\n",
       "    </tr>\n",
       "    <tr>\n",
       "      <th>3</th>\n",
       "      <td>0.65</td>\n",
       "      <td>0</td>\n",
       "      <td>31</td>\n",
       "    </tr>\n",
       "    <tr>\n",
       "      <th>4</th>\n",
       "      <td>0.70</td>\n",
       "      <td>0</td>\n",
       "      <td>25</td>\n",
       "    </tr>\n",
       "    <tr>\n",
       "      <th>5</th>\n",
       "      <td>0.75</td>\n",
       "      <td>0</td>\n",
       "      <td>20</td>\n",
       "    </tr>\n",
       "    <tr>\n",
       "      <th>6</th>\n",
       "      <td>0.80</td>\n",
       "      <td>0</td>\n",
       "      <td>19</td>\n",
       "    </tr>\n",
       "    <tr>\n",
       "      <th>7</th>\n",
       "      <td>0.85</td>\n",
       "      <td>0</td>\n",
       "      <td>18</td>\n",
       "    </tr>\n",
       "    <tr>\n",
       "      <th>8</th>\n",
       "      <td>0.90</td>\n",
       "      <td>0</td>\n",
       "      <td>9</td>\n",
       "    </tr>\n",
       "    <tr>\n",
       "      <th>9</th>\n",
       "      <td>0.95</td>\n",
       "      <td>0</td>\n",
       "      <td>7</td>\n",
       "    </tr>\n",
       "    <tr>\n",
       "      <th>10</th>\n",
       "      <td>1.00</td>\n",
       "      <td>0</td>\n",
       "      <td>0</td>\n",
       "    </tr>\n",
       "  </tbody>\n",
       "</table>\n",
       "</div>"
      ],
      "text/plain": [
       "    Threshold   FP  FN\n",
       "0        0.50  165  42\n",
       "1        0.55   75  41\n",
       "2        0.60    0  36\n",
       "3        0.65    0  31\n",
       "4        0.70    0  25\n",
       "5        0.75    0  20\n",
       "6        0.80    0  19\n",
       "7        0.85    0  18\n",
       "8        0.90    0   9\n",
       "9        0.95    0   7\n",
       "10       1.00    0   0"
      ]
     },
     "execution_count": 5,
     "metadata": {},
     "output_type": "execute_result"
    }
   ],
   "source": [
    "# 各確率の閾値を超えるデータの FP、FN の件数を計算\n",
    "fp_fn_counts = []\n",
    "\n",
    "prob_thresholds = [i / 20 for i in range(10, 21)]  # 0.5 から 1.0 まで 0.05 刻み\n",
    "\n",
    "for threshold in prob_thresholds:\n",
    "    # 閾値を超えるデータ\n",
    "    above_threshold_data = dataset[dataset['probability'] > threshold]\n",
    "    \n",
    "    # FP と FN の件数をカウント\n",
    "    fp_count = above_threshold_data[(above_threshold_data['label'] == 0)].shape[0]\n",
    "    fn_count = above_threshold_data[(above_threshold_data['label'] == 1)].shape[0]\n",
    "\n",
    "    fp_fn_counts.append({'Threshold': threshold, 'FP': fp_count, 'FN': fn_count})\n",
    "\n",
    "# DataFrame に変換\n",
    "fp_fn_df = pd.DataFrame(fp_fn_counts)\n",
    "\n",
    "fp_fn_df\n",
    "\n"
   ]
  },
  {
   "cell_type": "code",
   "execution_count": null,
   "id": "5bf55b10-5e4a-448a-8020-e68bd460269d",
   "metadata": {},
   "outputs": [],
   "source": []
  }
 ],
 "metadata": {
  "kernelspec": {
   "display_name": "Python 3 (ipykernel)",
   "language": "python",
   "name": "python3"
  },
  "language_info": {
   "codemirror_mode": {
    "name": "ipython",
    "version": 3
   },
   "file_extension": ".py",
   "mimetype": "text/x-python",
   "name": "python",
   "nbconvert_exporter": "python",
   "pygments_lexer": "ipython3",
   "version": "3.9.7"
  }
 },
 "nbformat": 4,
 "nbformat_minor": 5
}
