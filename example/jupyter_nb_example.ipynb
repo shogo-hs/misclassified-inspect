{
 "cells": [
  {
   "cell_type": "code",
   "execution_count": 1,
   "id": "76477dd9-e035-45af-abd8-edcb5960b9c6",
   "metadata": {},
   "outputs": [],
   "source": [
    "from datetime import datetime, timedelta\n",
    "import pandas as pd\n",
    "from misinspect.datasets.payment_transaction import generate_transaction_data\n",
    "from misinspect.analysis.binary import MisClassifiedTxnAnalyzer\n",
    "from misinspect.gui.jupyter import MisClassifiedTxnVisualizer"
   ]
  },
  {
   "cell_type": "code",
   "execution_count": 2,
   "id": "f3d86545-3b7b-4610-a755-750cd1c7cc8f",
   "metadata": {},
   "outputs": [],
   "source": [
    "normal = generate_transaction_data(\n",
    "    1000, \n",
    "    (1000, 1010), \n",
    "    (1, 3), \n",
    "    (datetime.now() - timedelta(days=100), datetime.now() - timedelta(days=5)),\n",
    "    [\"card\", \"QR\", \"cash\"],\n",
    "    0,\n",
    ")\n",
    "\n",
    "fraud = generate_transaction_data(\n",
    "    50, \n",
    "    (1000, 1010), \n",
    "    (1, 3), \n",
    "    (datetime.now() - timedelta(days=4), datetime.now()),\n",
    "    [\"card\", \"QR\", \"cash\"],\n",
    "    1,\n",
    ")\n",
    "\n",
    "dataset = pd.concat([normal, fraud], axis=0).reset_index(drop=True)"
   ]
  },
  {
   "cell_type": "code",
   "execution_count": 3,
   "id": "5635ac40-299c-4793-afe0-22a785998d47",
   "metadata": {},
   "outputs": [],
   "source": [
    "analyzer = MisClassifiedTxnAnalyzer(\n",
    "    dataset=dataset,\n",
    "    user_id_col = \"user_id\",\n",
    "    price_col = \"price\",\n",
    "    datetime_col = \"use_dt\",\n",
    "    prob_col = \"probability\",\n",
    "    label_col = \"label\",\n",
    ")"
   ]
  },
  {
   "cell_type": "code",
   "execution_count": 4,
   "id": "53b57f0a-6bd8-4d95-8742-5fdfd8ebfa32",
   "metadata": {},
   "outputs": [
    {
     "data": {
      "application/vnd.jupyter.widget-view+json": {
       "model_id": "c2dc847128824f87880e456f2c2ec053",
       "version_major": 2,
       "version_minor": 0
      },
      "text/plain": [
       "Dropdown(description='Select threshold: ', options=('0.50', '0.55', '0.60', '0.65', '0.70', '0.75', '0.80', '0…"
      ]
     },
     "metadata": {},
     "output_type": "display_data"
    },
    {
     "data": {
      "application/vnd.jupyter.widget-view+json": {
       "model_id": "b20e66adda4d4b80ab39da3c8078227f",
       "version_major": 2,
       "version_minor": 0
      },
      "text/plain": [
       "Select(description='Select misclassification type: ', layout=Layout(width='150px'), options=('FP', 'FN'), valu…"
      ]
     },
     "metadata": {},
     "output_type": "display_data"
    },
    {
     "data": {
      "application/vnd.jupyter.widget-view+json": {
       "model_id": "d073f78deaf04cdb96fedafc5da10e8c",
       "version_major": 2,
       "version_minor": 0
      },
      "text/plain": [
       "Dropdown(description='Select User Id: ', options=(), value=None)"
      ]
     },
     "metadata": {},
     "output_type": "display_data"
    },
    {
     "data": {
      "application/vnd.jupyter.widget-view+json": {
       "model_id": "5ae4de94a7dc461e8532b4b0afdee705",
       "version_major": 2,
       "version_minor": 0
      },
      "text/plain": [
       "HBox(children=(Button(description='display user data', style=ButtonStyle()), Button(description='plot payment …"
      ]
     },
     "metadata": {},
     "output_type": "display_data"
    },
    {
     "data": {
      "application/vnd.jupyter.widget-view+json": {
       "model_id": "f0451ade09d64dbf8552a273be139ef7",
       "version_major": 2,
       "version_minor": 0
      },
      "text/plain": [
       "Output(layout=Layout(border_bottom='1px solid black', border_left='1px solid black', border_right='1px solid b…"
      ]
     },
     "metadata": {},
     "output_type": "display_data"
    }
   ],
   "source": [
    "widget = MisClassifiedTxnVisualizer(analyzer)\n",
    "widget.show()"
   ]
  },
  {
   "cell_type": "code",
   "execution_count": null,
   "id": "5bf55b10-5e4a-448a-8020-e68bd460269d",
   "metadata": {},
   "outputs": [],
   "source": []
  }
 ],
 "metadata": {
  "kernelspec": {
   "display_name": "Python 3 (ipykernel)",
   "language": "python",
   "name": "python3"
  },
  "language_info": {
   "codemirror_mode": {
    "name": "ipython",
    "version": 3
   },
   "file_extension": ".py",
   "mimetype": "text/x-python",
   "name": "python",
   "nbconvert_exporter": "python",
   "pygments_lexer": "ipython3",
   "version": "3.9.7"
  }
 },
 "nbformat": 4,
 "nbformat_minor": 5
}
